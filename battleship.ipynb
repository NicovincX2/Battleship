{
 "cells": [
  {
   "cell_type": "code",
   "execution_count": 28,
   "metadata": {
    "collapsed": false,
    "deletable": true,
    "editable": true
   },
   "outputs": [],
   "source": [
    "# 1.1 Import tensorflow and other libraries.\n",
    "# http://efavdb.com/battleship/#mjx-eqn-rewards\n",
    "import tensorflow as tf\n",
    "import numpy as np\n",
    "%matplotlib inline\n",
    "import pylab"
   ]
  },
  {
   "cell_type": "code",
   "execution_count": 58,
   "metadata": {
    "collapsed": false,
    "deletable": true,
    "editable": true
   },
   "outputs": [
    {
     "name": "stdout",
     "output_type": "stream",
     "text": [
      "Tensor(\"Placeholder_63:0\", shape=(1, 10), dtype=float32)\n",
      "Tensor(\"Placeholder_64:0\", dtype=int64)\n",
      "Tensor(\"Placeholder_65:0\", shape=(), dtype=float32)\n",
      "Tensor(\"Variable_84/read:0\", shape=(10, 10), dtype=float32)\n",
      "Tensor(\"Variable_85/read:0\", shape=(1, 10), dtype=float32)\n",
      "Tensor(\"Tanh_21:0\", shape=(1, 10), dtype=float32)\n",
      "Tensor(\"add_44:0\", shape=(1, 10), dtype=float32)\n",
      "Tensor(\"Softmax_21:0\", shape=(1, 10), dtype=float32)\n"
     ]
    }
   ],
   "source": [
    "# 1.2 Define the nn variable network.\n",
    "# Input is array of BOARD_SIZE values.\n",
    "# ---------------------------------------\n",
    "#  -1 value -> Not yet checked\n",
    "#   0 value -> Checked, no ship\n",
    "#   1 value -> Checked, is ship location.\n",
    "# ---------------------------------------\n",
    "BOARD_SIZE = 10\n",
    "SHIP_SIZE = 3\n",
    "\n",
    "hidden_units = BOARD_SIZE\n",
    "output_units = BOARD_SIZE\n",
    "\n",
    "input_positions = tf.placeholder(tf.float32, shape=(1, BOARD_SIZE))\n",
    "print(input_positions)\n",
    "labels = tf.placeholder(tf.int64)\n",
    "print(labels)\n",
    "learning_rate = tf.placeholder(tf.float32, shape=[])\n",
    "print(learning_rate)\n",
    "# Generate hidden layer\n",
    "W1 = tf.Variable(tf.truncated_normal([BOARD_SIZE, hidden_units], stddev=0.1 / np.sqrt(float(BOARD_SIZE))))\n",
    "print(W1)\n",
    "b1 = tf.Variable(tf.zeros([1, hidden_units]))\n",
    "print(b1)\n",
    "h1 = tf.tanh(tf.matmul(input_positions, W1) + b1)\n",
    "print(h1)\n",
    "# Second layer -- linear classifier for action logits\n",
    "W2 = tf.Variable(tf.truncated_normal([hidden_units, output_units], stddev=0.1 / np.sqrt(float(hidden_units))))\n",
    "b2 = tf.Variable(tf.zeros([1, output_units]))\n",
    "logits = tf.matmul(h1, W2) + b2 \n",
    "print(logits)\n",
    "probabilities = tf.nn.softmax(logits)\n",
    "print(probabilities)\n"
   ]
  },
  {
   "cell_type": "code",
   "execution_count": 52,
   "metadata": {
    "collapsed": false,
    "deletable": true,
    "editable": true
   },
   "outputs": [
    {
     "name": "stdout",
     "output_type": "stream",
     "text": [
      "Tensor(\"xentropy_9/xentropy:0\", shape=(1,), dtype=float32)\n",
      "name: \"GradientDescent_9\"\n",
      "op: \"NoOp\"\n",
      "input: \"^GradientDescent_9/update_Variable_60/ApplyGradientDescent\"\n",
      "input: \"^GradientDescent_9/update_Variable_61/ApplyGradientDescent\"\n",
      "input: \"^GradientDescent_9/update_Variable_62/ApplyGradientDescent\"\n",
      "input: \"^GradientDescent_9/update_Variable_63/ApplyGradientDescent\"\n",
      "\n"
     ]
    }
   ],
   "source": [
    "# 1.3 Define the operations we will use\n",
    "init = tf.global_variables_initializer()\n",
    "cross_entropy = tf.nn.sparse_softmax_cross_entropy_with_logits(logits=logits, labels=labels, name='xentropy')\n",
    "print(cross_entropy)\n",
    "train_step = tf.train.GradientDescentOptimizer(learning_rate=learning_rate).minimize(cross_entropy)\n",
    "print(train_step)\n",
    "# Start TF session\n",
    "sess = tf.Session()\n",
    "sess.run(init)"
   ]
  },
  {
   "cell_type": "code",
   "execution_count": 31,
   "metadata": {
    "collapsed": false,
    "deletable": true,
    "editable": true
   },
   "outputs": [
    {
     "data": {
      "text/plain": [
       "([[[-1, -1, -1, -1, -1, -1, -1, -1, -1, -1]],\n",
       "  [[-1, -1, -1, -1, -1, -1, -1, -1, 0, -1]],\n",
       "  [[-1, -1, -1, -1, -1, -1, 1, -1, 0, -1]],\n",
       "  [[-1, -1, 0, -1, -1, -1, 1, -1, 0, -1]],\n",
       "  [[0, -1, 0, -1, -1, -1, 1, -1, 0, -1]],\n",
       "  [[0, 0, 0, -1, -1, -1, 1, -1, 0, -1]],\n",
       "  [[0, 0, 0, -1, 1, -1, 1, -1, 0, -1]],\n",
       "  [[0, 0, 0, -1, 1, -1, 1, -1, 0, 0]],\n",
       "  [[0, 0, 0, -1, 1, -1, 1, 0, 0, 0]],\n",
       "  [[0, 0, 0, 0, 1, -1, 1, 0, 0, 0]]],\n",
       " [8, 6, 2, 0, 1, 4, 9, 7, 3, 5],\n",
       " [0, 1, 0, 0, 0, 1, 0, 0, 0, 1])"
      ]
     },
     "execution_count": 31,
     "metadata": {},
     "output_type": "execute_result"
    }
   ],
   "source": [
    "# 1.4 Game play definition.\n",
    "TRAINING = True\n",
    "def play_game(training=TRAINING):\n",
    "    \"\"\" Play game of battleship using network.\"\"\"\n",
    "    # Select random location for ship\n",
    "    ship_left = np.random.randint(BOARD_SIZE - SHIP_SIZE + 1)\n",
    "    ship_positions = set(range(ship_left, ship_left + SHIP_SIZE))\n",
    "    # Initialize logs for game\n",
    "    board_position_log = []\n",
    "    action_log = []\n",
    "    hit_log = []\n",
    "    # Play through game\n",
    "    current_board = [[-1 for i in range(BOARD_SIZE)]]\n",
    "    while (sum(hit_log) < SHIP_SIZE) and (len(action_log) < BOARD_SIZE):\n",
    "        board_position_log.append([[i for i in current_board[0]]])\n",
    "        probs = sess.run([probabilities], feed_dict={input_positions:current_board})[0][0]\n",
    "        probs = [p * (index not in action_log) for index, p in enumerate(probs)]\n",
    "        probs = [p / sum(probs) for p in probs]\n",
    "        if training == True:\n",
    "            bomb_index = np.random.choice(BOARD_SIZE, p=probs)            \n",
    "        else:\n",
    "            bomb_index = np.argmax(probs)\n",
    "        # update board, logs\n",
    "        hit_log.append(1 * (bomb_index in ship_positions))\n",
    "        current_board[0][bomb_index] = 1 * (bomb_index in ship_positions)\n",
    "        action_log.append(bomb_index)\n",
    "    return board_position_log, action_log, hit_log\n",
    "# Example:\n",
    "play_game()"
   ]
  },
  {
   "cell_type": "code",
   "execution_count": 32,
   "metadata": {
    "collapsed": false
   },
   "outputs": [
    {
     "data": {
      "text/plain": [
       "[-0.16904761904761903,\n",
       " 0.2619047619047619,\n",
       " 1.1904761904761905,\n",
       " 1.130952380952381,\n",
       " 0.8333333333333334]"
      ]
     },
     "execution_count": 32,
     "metadata": {},
     "output_type": "execute_result"
    }
   ],
   "source": [
    "# 1.5 Reward function definition\n",
    "def rewards_calculator(hit_log, gamma=0.5):\n",
    "    \"\"\" Discounted sum of future hits over trajectory\"\"\"            \n",
    "    hit_log_weighted = [(item - float(SHIP_SIZE - sum(hit_log[:index])) / float(BOARD_SIZE - index)) * (gamma ** index) for index, item in enumerate(hit_log)]\n",
    "    return [((gamma) ** (-i)) * sum(hit_log_weighted[i:]) for i in range(len(hit_log))]\n",
    "\n",
    "# Example\n",
    "rewards_calculator([0,0,1,1,1])"
   ]
  },
  {
   "cell_type": "code",
   "execution_count": 33,
   "metadata": {
    "collapsed": true
   },
   "outputs": [],
   "source": [
    "# 1.6 Training loop: Play and learn\n",
    "game_lengths = []\n",
    "TRAINING = True   # Boolean specifies training mode\n",
    "ALPHA = 0.06      # step size\n",
    "\n",
    "for game in range(10000):\n",
    "    board_position_log, action_log, hit_log = play_game(training=TRAINING)\n",
    "    game_lengths.append(len(action_log))\n",
    "    rewards_log = rewards_calculator(hit_log)\n",
    "    for reward, current_board, action in zip(rewards_log, board_position_log, action_log):\n",
    "        # Take step along gradient\n",
    "        if TRAINING:\n",
    "            sess.run([train_step], \n",
    "                feed_dict={input_positions:current_board, labels:[action], learning_rate:ALPHA * reward})"
   ]
  },
  {
   "cell_type": "code",
   "execution_count": 34,
   "metadata": {
    "collapsed": false,
    "deletable": true,
    "editable": true
   },
   "outputs": [
    {
     "data": {
      "text/plain": [
       "[<matplotlib.lines.Line2D at 0x1ef59252860>]"
      ]
     },
     "execution_count": 34,
     "metadata": {},
     "output_type": "execute_result"
    },
    {
     "data": {
      "image/png": "[encoded data removed]",
      "text/plain": [
       "<matplotlib.figure.Figure at 0x1ef591324a8>"
      ]
     },
     "metadata": {},
     "output_type": "display_data"
    }
   ],
   "source": [
    "# 1.7 Plot running average game lengths\n",
    "window_size = 500\n",
    "running_average_length = [np.mean(game_lengths[i:i+window_size]) for i in range(len(game_lengths)- window_size)]\n",
    "pylab.plot(running_average_length)"
   ]
  },
  {
   "cell_type": "code",
   "execution_count": 35,
   "metadata": {
    "collapsed": false
   },
   "outputs": [
    {
     "data": {
      "text/plain": [
       "[array([[  7.25901186e-01,   1.04886639e+00,   6.20839112e-02,\n",
       "          -3.41061354e-02,   4.55370486e-01,   2.02341691e-01,\n",
       "          -2.12955847e-01,   3.58229399e-01,   7.24420965e-01,\n",
       "           3.38534296e-01],\n",
       "        [ -1.57648444e+00,  -1.72019684e+00,  -1.80868149e+00,\n",
       "          -7.12780356e-02,   1.11409567e-01,   1.63963601e-01,\n",
       "           1.47185652e-02,   1.30413938e+00,  -2.37215042e+00,\n",
       "           1.21751346e-01],\n",
       "        [  1.37824535e+00,  -1.32748854e+00,  -1.55953240e+00,\n",
       "           1.73858631e+00,  -3.07726669e+00,  -3.41630965e-01,\n",
       "          -1.37973142e+00,   2.52039552e+00,   2.36320090e+00,\n",
       "          -2.60692453e+00],\n",
       "        [ -2.57445884e+00,   2.02244043e+00,   2.29665589e+00,\n",
       "           1.36782777e+00,  -2.47151569e-01,  -2.57568288e+00,\n",
       "          -1.09048522e+00,  -1.92701316e+00,  -2.55728292e+00,\n",
       "          -4.62185621e-01],\n",
       "        [  2.34399986e+00,  -9.83024359e-01,   2.24991977e-01,\n",
       "          -1.41239774e+00,   2.62054294e-01,   4.87807579e-02,\n",
       "           4.96334672e-01,   2.22372866e+00,   2.49350381e+00,\n",
       "           1.24225557e+00],\n",
       "        [ -6.45392179e-01,   3.22920609e+00,  -2.60062885e+00,\n",
       "           1.91084027e+00,  -1.12026894e+00,  -1.70617259e+00,\n",
       "          -2.64522958e+00,  -8.12052429e-01,  -2.31542993e+00,\n",
       "           3.47127318e-01],\n",
       "        [ -2.34244061e+00,  -1.58395278e+00,   9.90208447e-01,\n",
       "           1.73158303e-01,  -3.54572773e-01,   2.88874793e+00,\n",
       "          -1.95340112e-01,  -7.65791774e-01,   5.15411556e-01,\n",
       "          -2.77374339e+00],\n",
       "        [ -6.06560588e-01,   1.22526658e+00,  -8.06299269e-01,\n",
       "          -4.10335332e-01,  -2.49871969e+00,  -1.05831993e+00,\n",
       "           1.84081817e+00,  -6.14631951e-01,  -4.36943889e-01,\n",
       "           1.05194032e+00],\n",
       "        [  1.39860177e+00,  -7.86226571e-01,  -1.10314333e+00,\n",
       "          -4.63514149e-01,   2.99973726e-01,  -2.54053384e-01,\n",
       "           2.37958416e-01,   1.81838661e-01,  -1.48128510e+00,\n",
       "           3.10174823e-01],\n",
       "        [ -8.47620487e-01,   7.17755735e-01,   2.06155315e-01,\n",
       "           2.71693528e-01,   4.05549586e-01,   1.87696156e-03,\n",
       "           2.58052349e-01,   4.01220560e-01,   1.02901244e+00,\n",
       "           1.32583559e-01]], dtype=float32)]"
      ]
     },
     "execution_count": 35,
     "metadata": {},
     "output_type": "execute_result"
    }
   ],
   "source": [
    "# 1.8 Example showing how to print current coefficient values\n",
    "sess.run([W1], feed_dict={input_positions:board_position_log[0]})"
   ]
  }
 ],
 "metadata": {
  "kernelspec": {
   "display_name": "An0n1mX2",
   "language": "python",
   "name": "python3"
  },
  "language_info": {
   "codemirror_mode": {
    "name": "ipython",
    "version": 3
   },
   "file_extension": ".py",
   "mimetype": "text/x-python",
   "name": "python",
   "nbconvert_exporter": "python",
   "pygments_lexer": "ipython3",
   "version": "3.5.2"
  }
 },
 "nbformat": 4,
 "nbformat_minor": 2
}
